{
  "cells": [
    {
      "cell_type": "code",
      "execution_count": 64,
      "metadata": {
        "colab": {
          "base_uri": "https://localhost:8080/"
        },
        "id": "sm9W_k_8UUJI",
        "outputId": "af1f6dd6-b6a3-4ef2-9a50-9b2b3b96254f"
      },
      "outputs": [
        {
          "name": "stdout",
          "output_type": "stream",
          "text": [
            "Requirement already satisfied: scipy in /usr/local/lib/python3.10/dist-packages (1.11.4)\n",
            "Requirement already satisfied: numpy<1.28.0,>=1.21.6 in /usr/local/lib/python3.10/dist-packages (from scipy) (1.25.2)\n"
          ]
        }
      ],
      "source": [
        "pip install scipy"
      ]
    },
    {
      "cell_type": "code",
      "execution_count": 65,
      "metadata": {
        "colab": {
          "base_uri": "https://localhost:8080/",
          "height": 828
        },
        "id": "POOwu0MCUxRN",
        "outputId": "91fd8543-2117-4354-d9aa-354858c4ba65"
      },
      "outputs": [
        {
          "name": "stdout",
          "output_type": "stream",
          "text": [
            "Dataset: test\n",
            "\thaving_IP_Address's type is nominal, range is ('1', '0')\n",
            "\tURL_Length's type is nominal, range is ('1', '0', '-1')\n",
            "\tShortining_Service's type is nominal, range is ('0', '1')\n",
            "\thaving_At_Symbol's type is nominal, range is ('0', '1')\n",
            "\tdouble_slash_redirecting's type is nominal, range is ('1', '0')\n",
            "\tPrefix_Suffix's type is nominal, range is ('-1', '0', '1')\n",
            "\thaving_Sub_Domain's type is nominal, range is ('-1', '0', '1')\n",
            "\tSSLfinal_State's type is nominal, range is ('-1', '1', '0')\n",
            "\tDomain_registeration_length's type is nominal, range is ('0', '1', '-1')\n",
            "\tFavicon's type is nominal, range is ('0', '1')\n",
            "\tport's type is nominal, range is ('0', '1')\n",
            "\tHTTPS_token's type is nominal, range is ('1', '0')\n",
            "\tRequest_URL's type is nominal, range is ('1', '-1')\n",
            "\tURL_of_Anchor's type is nominal, range is ('-1', '0', '1')\n",
            "\tLinks_in_tags's type is nominal, range is ('1', '-1', '0')\n",
            "\tSFH's type is nominal, range is ('-1', '1')\n",
            "\tSubmitting_to_email's type is nominal, range is ('1', '0')\n",
            "\tAbnormal_URL's type is nominal, range is ('1', '0')\n",
            "\tRedirect's type is nominal, range is ('0', '1')\n",
            "\ton_mouseover's type is nominal, range is ('0', '1')\n",
            "\tRightClick's type is nominal, range is ('0', '1')\n",
            "\tpopUpWidnow's type is nominal, range is ('0', '1')\n",
            "\tIframe's type is nominal, range is ('0', '1')\n",
            "\tage_of_domain's type is nominal, range is ('-1', '0', '1')\n",
            "\tDNSRecord's type is nominal, range is ('1', '0')\n",
            "\tweb_traffic's type is nominal, range is ('-1', '0', '1')\n",
            "\tPage_Rank's type is nominal, range is ('-1', '0', '1')\n",
            "\tGoogle_Index's type is nominal, range is ('0', '1')\n",
            "\tLinks_pointing_to_page's type is nominal, range is ('1', '0', '-1')\n",
            "\tStatistical_report's type is nominal, range is ('1', '0')\n",
            "\tResult's type is nominal, range is ('1', '-1')\n",
            "\n"
          ]
        },
        {
          "data": {
            "application/vnd.google.colaboratory.intrinsic+json": {
              "type": "dataframe",
              "variable_name": "df"
            },
            "text/html": [
              "\n",
              "  <div id=\"df-ea8e1995-c0e1-4a2f-be17-77d2c2f3f0b8\" class=\"colab-df-container\">\n",
              "    <div>\n",
              "<style scoped>\n",
              "    .dataframe tbody tr th:only-of-type {\n",
              "        vertical-align: middle;\n",
              "    }\n",
              "\n",
              "    .dataframe tbody tr th {\n",
              "        vertical-align: top;\n",
              "    }\n",
              "\n",
              "    .dataframe thead th {\n",
              "        text-align: right;\n",
              "    }\n",
              "</style>\n",
              "<table border=\"1\" class=\"dataframe\">\n",
              "  <thead>\n",
              "    <tr style=\"text-align: right;\">\n",
              "      <th></th>\n",
              "      <th>having_IP_Address</th>\n",
              "      <th>URL_Length</th>\n",
              "      <th>Shortining_Service</th>\n",
              "      <th>having_At_Symbol</th>\n",
              "      <th>double_slash_redirecting</th>\n",
              "      <th>Prefix_Suffix</th>\n",
              "      <th>having_Sub_Domain</th>\n",
              "      <th>SSLfinal_State</th>\n",
              "      <th>Domain_registeration_length</th>\n",
              "      <th>Favicon</th>\n",
              "      <th>...</th>\n",
              "      <th>popUpWidnow</th>\n",
              "      <th>Iframe</th>\n",
              "      <th>age_of_domain</th>\n",
              "      <th>DNSRecord</th>\n",
              "      <th>web_traffic</th>\n",
              "      <th>Page_Rank</th>\n",
              "      <th>Google_Index</th>\n",
              "      <th>Links_pointing_to_page</th>\n",
              "      <th>Statistical_report</th>\n",
              "      <th>Result</th>\n",
              "    </tr>\n",
              "  </thead>\n",
              "  <tbody>\n",
              "    <tr>\n",
              "      <th>0</th>\n",
              "      <td>b'1'</td>\n",
              "      <td>b'1'</td>\n",
              "      <td>b'0'</td>\n",
              "      <td>b'0'</td>\n",
              "      <td>b'1'</td>\n",
              "      <td>b'-1'</td>\n",
              "      <td>b'-1'</td>\n",
              "      <td>b'-1'</td>\n",
              "      <td>b'0'</td>\n",
              "      <td>b'0'</td>\n",
              "      <td>...</td>\n",
              "      <td>b'0'</td>\n",
              "      <td>b'0'</td>\n",
              "      <td>b'-1'</td>\n",
              "      <td>b'1'</td>\n",
              "      <td>b'-1'</td>\n",
              "      <td>b'-1'</td>\n",
              "      <td>b'0'</td>\n",
              "      <td>b'1'</td>\n",
              "      <td>b'1'</td>\n",
              "      <td>b'1'</td>\n",
              "    </tr>\n",
              "    <tr>\n",
              "      <th>1</th>\n",
              "      <td>b'0'</td>\n",
              "      <td>b'1'</td>\n",
              "      <td>b'0'</td>\n",
              "      <td>b'0'</td>\n",
              "      <td>b'0'</td>\n",
              "      <td>b'-1'</td>\n",
              "      <td>b'0'</td>\n",
              "      <td>b'1'</td>\n",
              "      <td>b'0'</td>\n",
              "      <td>b'0'</td>\n",
              "      <td>...</td>\n",
              "      <td>b'0'</td>\n",
              "      <td>b'0'</td>\n",
              "      <td>b'-1'</td>\n",
              "      <td>b'1'</td>\n",
              "      <td>b'0'</td>\n",
              "      <td>b'-1'</td>\n",
              "      <td>b'0'</td>\n",
              "      <td>b'1'</td>\n",
              "      <td>b'0'</td>\n",
              "      <td>b'1'</td>\n",
              "    </tr>\n",
              "    <tr>\n",
              "      <th>2</th>\n",
              "      <td>b'0'</td>\n",
              "      <td>b'0'</td>\n",
              "      <td>b'0'</td>\n",
              "      <td>b'0'</td>\n",
              "      <td>b'0'</td>\n",
              "      <td>b'-1'</td>\n",
              "      <td>b'-1'</td>\n",
              "      <td>b'-1'</td>\n",
              "      <td>b'0'</td>\n",
              "      <td>b'0'</td>\n",
              "      <td>...</td>\n",
              "      <td>b'0'</td>\n",
              "      <td>b'0'</td>\n",
              "      <td>b'0'</td>\n",
              "      <td>b'1'</td>\n",
              "      <td>b'1'</td>\n",
              "      <td>b'-1'</td>\n",
              "      <td>b'0'</td>\n",
              "      <td>b'0'</td>\n",
              "      <td>b'1'</td>\n",
              "      <td>b'1'</td>\n",
              "    </tr>\n",
              "    <tr>\n",
              "      <th>3</th>\n",
              "      <td>b'0'</td>\n",
              "      <td>b'0'</td>\n",
              "      <td>b'0'</td>\n",
              "      <td>b'0'</td>\n",
              "      <td>b'0'</td>\n",
              "      <td>b'-1'</td>\n",
              "      <td>b'-1'</td>\n",
              "      <td>b'-1'</td>\n",
              "      <td>b'1'</td>\n",
              "      <td>b'0'</td>\n",
              "      <td>...</td>\n",
              "      <td>b'0'</td>\n",
              "      <td>b'0'</td>\n",
              "      <td>b'-1'</td>\n",
              "      <td>b'1'</td>\n",
              "      <td>b'1'</td>\n",
              "      <td>b'-1'</td>\n",
              "      <td>b'0'</td>\n",
              "      <td>b'-1'</td>\n",
              "      <td>b'0'</td>\n",
              "      <td>b'1'</td>\n",
              "    </tr>\n",
              "    <tr>\n",
              "      <th>4</th>\n",
              "      <td>b'0'</td>\n",
              "      <td>b'0'</td>\n",
              "      <td>b'1'</td>\n",
              "      <td>b'0'</td>\n",
              "      <td>b'0'</td>\n",
              "      <td>b'-1'</td>\n",
              "      <td>b'1'</td>\n",
              "      <td>b'1'</td>\n",
              "      <td>b'0'</td>\n",
              "      <td>b'0'</td>\n",
              "      <td>...</td>\n",
              "      <td>b'1'</td>\n",
              "      <td>b'0'</td>\n",
              "      <td>b'-1'</td>\n",
              "      <td>b'1'</td>\n",
              "      <td>b'0'</td>\n",
              "      <td>b'-1'</td>\n",
              "      <td>b'0'</td>\n",
              "      <td>b'1'</td>\n",
              "      <td>b'0'</td>\n",
              "      <td>b'-1'</td>\n",
              "    </tr>\n",
              "  </tbody>\n",
              "</table>\n",
              "<p>5 rows × 31 columns</p>\n",
              "</div>\n",
              "    <div class=\"colab-df-buttons\">\n",
              "\n",
              "  <div class=\"colab-df-container\">\n",
              "    <button class=\"colab-df-convert\" onclick=\"convertToInteractive('df-ea8e1995-c0e1-4a2f-be17-77d2c2f3f0b8')\"\n",
              "            title=\"Convert this dataframe to an interactive table.\"\n",
              "            style=\"display:none;\">\n",
              "\n",
              "  <svg xmlns=\"http://www.w3.org/2000/svg\" height=\"24px\" viewBox=\"0 -960 960 960\">\n",
              "    <path d=\"M120-120v-720h720v720H120Zm60-500h600v-160H180v160Zm220 220h160v-160H400v160Zm0 220h160v-160H400v160ZM180-400h160v-160H180v160Zm440 0h160v-160H620v160ZM180-180h160v-160H180v160Zm440 0h160v-160H620v160Z\"/>\n",
              "  </svg>\n",
              "    </button>\n",
              "\n",
              "  <style>\n",
              "    .colab-df-container {\n",
              "      display:flex;\n",
              "      gap: 12px;\n",
              "    }\n",
              "\n",
              "    .colab-df-convert {\n",
              "      background-color: #E8F0FE;\n",
              "      border: none;\n",
              "      border-radius: 50%;\n",
              "      cursor: pointer;\n",
              "      display: none;\n",
              "      fill: #1967D2;\n",
              "      height: 32px;\n",
              "      padding: 0 0 0 0;\n",
              "      width: 32px;\n",
              "    }\n",
              "\n",
              "    .colab-df-convert:hover {\n",
              "      background-color: #E2EBFA;\n",
              "      box-shadow: 0px 1px 2px rgba(60, 64, 67, 0.3), 0px 1px 3px 1px rgba(60, 64, 67, 0.15);\n",
              "      fill: #174EA6;\n",
              "    }\n",
              "\n",
              "    .colab-df-buttons div {\n",
              "      margin-bottom: 4px;\n",
              "    }\n",
              "\n",
              "    [theme=dark] .colab-df-convert {\n",
              "      background-color: #3B4455;\n",
              "      fill: #D2E3FC;\n",
              "    }\n",
              "\n",
              "    [theme=dark] .colab-df-convert:hover {\n",
              "      background-color: #434B5C;\n",
              "      box-shadow: 0px 1px 3px 1px rgba(0, 0, 0, 0.15);\n",
              "      filter: drop-shadow(0px 1px 2px rgba(0, 0, 0, 0.3));\n",
              "      fill: #FFFFFF;\n",
              "    }\n",
              "  </style>\n",
              "\n",
              "    <script>\n",
              "      const buttonEl =\n",
              "        document.querySelector('#df-ea8e1995-c0e1-4a2f-be17-77d2c2f3f0b8 button.colab-df-convert');\n",
              "      buttonEl.style.display =\n",
              "        google.colab.kernel.accessAllowed ? 'block' : 'none';\n",
              "\n",
              "      async function convertToInteractive(key) {\n",
              "        const element = document.querySelector('#df-ea8e1995-c0e1-4a2f-be17-77d2c2f3f0b8');\n",
              "        const dataTable =\n",
              "          await google.colab.kernel.invokeFunction('convertToInteractive',\n",
              "                                                    [key], {});\n",
              "        if (!dataTable) return;\n",
              "\n",
              "        const docLinkHtml = 'Like what you see? Visit the ' +\n",
              "          '<a target=\"_blank\" href=https://colab.research.google.com/notebooks/data_table.ipynb>data table notebook</a>'\n",
              "          + ' to learn more about interactive tables.';\n",
              "        element.innerHTML = '';\n",
              "        dataTable['output_type'] = 'display_data';\n",
              "        await google.colab.output.renderOutput(dataTable, element);\n",
              "        const docLink = document.createElement('div');\n",
              "        docLink.innerHTML = docLinkHtml;\n",
              "        element.appendChild(docLink);\n",
              "      }\n",
              "    </script>\n",
              "  </div>\n",
              "\n",
              "\n",
              "<div id=\"df-aef05840-49f1-429b-889e-c807e73b267c\">\n",
              "  <button class=\"colab-df-quickchart\" onclick=\"quickchart('df-aef05840-49f1-429b-889e-c807e73b267c')\"\n",
              "            title=\"Suggest charts\"\n",
              "            style=\"display:none;\">\n",
              "\n",
              "<svg xmlns=\"http://www.w3.org/2000/svg\" height=\"24px\"viewBox=\"0 0 24 24\"\n",
              "     width=\"24px\">\n",
              "    <g>\n",
              "        <path d=\"M19 3H5c-1.1 0-2 .9-2 2v14c0 1.1.9 2 2 2h14c1.1 0 2-.9 2-2V5c0-1.1-.9-2-2-2zM9 17H7v-7h2v7zm4 0h-2V7h2v10zm4 0h-2v-4h2v4z\"/>\n",
              "    </g>\n",
              "</svg>\n",
              "  </button>\n",
              "\n",
              "<style>\n",
              "  .colab-df-quickchart {\n",
              "      --bg-color: #E8F0FE;\n",
              "      --fill-color: #1967D2;\n",
              "      --hover-bg-color: #E2EBFA;\n",
              "      --hover-fill-color: #174EA6;\n",
              "      --disabled-fill-color: #AAA;\n",
              "      --disabled-bg-color: #DDD;\n",
              "  }\n",
              "\n",
              "  [theme=dark] .colab-df-quickchart {\n",
              "      --bg-color: #3B4455;\n",
              "      --fill-color: #D2E3FC;\n",
              "      --hover-bg-color: #434B5C;\n",
              "      --hover-fill-color: #FFFFFF;\n",
              "      --disabled-bg-color: #3B4455;\n",
              "      --disabled-fill-color: #666;\n",
              "  }\n",
              "\n",
              "  .colab-df-quickchart {\n",
              "    background-color: var(--bg-color);\n",
              "    border: none;\n",
              "    border-radius: 50%;\n",
              "    cursor: pointer;\n",
              "    display: none;\n",
              "    fill: var(--fill-color);\n",
              "    height: 32px;\n",
              "    padding: 0;\n",
              "    width: 32px;\n",
              "  }\n",
              "\n",
              "  .colab-df-quickchart:hover {\n",
              "    background-color: var(--hover-bg-color);\n",
              "    box-shadow: 0 1px 2px rgba(60, 64, 67, 0.3), 0 1px 3px 1px rgba(60, 64, 67, 0.15);\n",
              "    fill: var(--button-hover-fill-color);\n",
              "  }\n",
              "\n",
              "  .colab-df-quickchart-complete:disabled,\n",
              "  .colab-df-quickchart-complete:disabled:hover {\n",
              "    background-color: var(--disabled-bg-color);\n",
              "    fill: var(--disabled-fill-color);\n",
              "    box-shadow: none;\n",
              "  }\n",
              "\n",
              "  .colab-df-spinner {\n",
              "    border: 2px solid var(--fill-color);\n",
              "    border-color: transparent;\n",
              "    border-bottom-color: var(--fill-color);\n",
              "    animation:\n",
              "      spin 1s steps(1) infinite;\n",
              "  }\n",
              "\n",
              "  @keyframes spin {\n",
              "    0% {\n",
              "      border-color: transparent;\n",
              "      border-bottom-color: var(--fill-color);\n",
              "      border-left-color: var(--fill-color);\n",
              "    }\n",
              "    20% {\n",
              "      border-color: transparent;\n",
              "      border-left-color: var(--fill-color);\n",
              "      border-top-color: var(--fill-color);\n",
              "    }\n",
              "    30% {\n",
              "      border-color: transparent;\n",
              "      border-left-color: var(--fill-color);\n",
              "      border-top-color: var(--fill-color);\n",
              "      border-right-color: var(--fill-color);\n",
              "    }\n",
              "    40% {\n",
              "      border-color: transparent;\n",
              "      border-right-color: var(--fill-color);\n",
              "      border-top-color: var(--fill-color);\n",
              "    }\n",
              "    60% {\n",
              "      border-color: transparent;\n",
              "      border-right-color: var(--fill-color);\n",
              "    }\n",
              "    80% {\n",
              "      border-color: transparent;\n",
              "      border-right-color: var(--fill-color);\n",
              "      border-bottom-color: var(--fill-color);\n",
              "    }\n",
              "    90% {\n",
              "      border-color: transparent;\n",
              "      border-bottom-color: var(--fill-color);\n",
              "    }\n",
              "  }\n",
              "</style>\n",
              "\n",
              "  <script>\n",
              "    async function quickchart(key) {\n",
              "      const quickchartButtonEl =\n",
              "        document.querySelector('#' + key + ' button');\n",
              "      quickchartButtonEl.disabled = true;  // To prevent multiple clicks.\n",
              "      quickchartButtonEl.classList.add('colab-df-spinner');\n",
              "      try {\n",
              "        const charts = await google.colab.kernel.invokeFunction(\n",
              "            'suggestCharts', [key], {});\n",
              "      } catch (error) {\n",
              "        console.error('Error during call to suggestCharts:', error);\n",
              "      }\n",
              "      quickchartButtonEl.classList.remove('colab-df-spinner');\n",
              "      quickchartButtonEl.classList.add('colab-df-quickchart-complete');\n",
              "    }\n",
              "    (() => {\n",
              "      let quickchartButtonEl =\n",
              "        document.querySelector('#df-aef05840-49f1-429b-889e-c807e73b267c button');\n",
              "      quickchartButtonEl.style.display =\n",
              "        google.colab.kernel.accessAllowed ? 'block' : 'none';\n",
              "    })();\n",
              "  </script>\n",
              "</div>\n",
              "\n",
              "    </div>\n",
              "  </div>\n"
            ],
            "text/plain": [
              "  having_IP_Address URL_Length Shortining_Service having_At_Symbol  \\\n",
              "0              b'1'       b'1'               b'0'             b'0'   \n",
              "1              b'0'       b'1'               b'0'             b'0'   \n",
              "2              b'0'       b'0'               b'0'             b'0'   \n",
              "3              b'0'       b'0'               b'0'             b'0'   \n",
              "4              b'0'       b'0'               b'1'             b'0'   \n",
              "\n",
              "  double_slash_redirecting Prefix_Suffix having_Sub_Domain SSLfinal_State  \\\n",
              "0                     b'1'         b'-1'             b'-1'          b'-1'   \n",
              "1                     b'0'         b'-1'              b'0'           b'1'   \n",
              "2                     b'0'         b'-1'             b'-1'          b'-1'   \n",
              "3                     b'0'         b'-1'             b'-1'          b'-1'   \n",
              "4                     b'0'         b'-1'              b'1'           b'1'   \n",
              "\n",
              "  Domain_registeration_length Favicon  ... popUpWidnow Iframe age_of_domain  \\\n",
              "0                        b'0'    b'0'  ...        b'0'   b'0'         b'-1'   \n",
              "1                        b'0'    b'0'  ...        b'0'   b'0'         b'-1'   \n",
              "2                        b'0'    b'0'  ...        b'0'   b'0'          b'0'   \n",
              "3                        b'1'    b'0'  ...        b'0'   b'0'         b'-1'   \n",
              "4                        b'0'    b'0'  ...        b'1'   b'0'         b'-1'   \n",
              "\n",
              "  DNSRecord web_traffic Page_Rank Google_Index Links_pointing_to_page  \\\n",
              "0      b'1'       b'-1'     b'-1'         b'0'                   b'1'   \n",
              "1      b'1'        b'0'     b'-1'         b'0'                   b'1'   \n",
              "2      b'1'        b'1'     b'-1'         b'0'                   b'0'   \n",
              "3      b'1'        b'1'     b'-1'         b'0'                  b'-1'   \n",
              "4      b'1'        b'0'     b'-1'         b'0'                   b'1'   \n",
              "\n",
              "  Statistical_report Result  \n",
              "0               b'1'   b'1'  \n",
              "1               b'0'   b'1'  \n",
              "2               b'1'   b'1'  \n",
              "3               b'0'   b'1'  \n",
              "4               b'0'  b'-1'  \n",
              "\n",
              "[5 rows x 31 columns]"
            ]
          },
          "execution_count": 65,
          "metadata": {},
          "output_type": "execute_result"
        }
      ],
      "source": [
        "from scipy.io import arff\n",
        "\n",
        "# Load ARFF file\n",
        "data, meta = arff.loadarff('/content/drive/MyDrive/phishing.arff')\n",
        "\n",
        "# Print meta-information (attributes)\n",
        "print(meta)\n",
        "\n",
        "# Convert data to pandas DataFrame\n",
        "import pandas as pd\n",
        "df = pd.DataFrame(data)\n",
        "df.head()"
      ]
    },
    {
      "cell_type": "code",
      "execution_count": 66,
      "metadata": {
        "colab": {
          "base_uri": "https://localhost:8080/"
        },
        "id": "vgEsIZ0CV_rE",
        "outputId": "a2599bd2-b1f4-40dd-9ae8-8e742566f51e"
      },
      "outputs": [
        {
          "data": {
            "text/plain": [
              "(2456, 31)"
            ]
          },
          "execution_count": 66,
          "metadata": {},
          "output_type": "execute_result"
        }
      ],
      "source": [
        "df.shape"
      ]
    },
    {
      "cell_type": "code",
      "execution_count": 67,
      "metadata": {
        "colab": {
          "base_uri": "https://localhost:8080/"
        },
        "id": "uQ-dOvCJZpss",
        "outputId": "8730e4bb-20b7-47f2-a12c-5f2f5a206706"
      },
      "outputs": [
        {
          "name": "stdout",
          "output_type": "stream",
          "text": [
            "<class 'pandas.core.frame.DataFrame'>\n",
            "RangeIndex: 2456 entries, 0 to 2455\n",
            "Data columns (total 31 columns):\n",
            " #   Column                       Non-Null Count  Dtype \n",
            "---  ------                       --------------  ----- \n",
            " 0   having_IP_Address            2456 non-null   object\n",
            " 1   URL_Length                   2456 non-null   object\n",
            " 2   Shortining_Service           2456 non-null   object\n",
            " 3   having_At_Symbol             2456 non-null   object\n",
            " 4   double_slash_redirecting     2456 non-null   object\n",
            " 5   Prefix_Suffix                2456 non-null   object\n",
            " 6   having_Sub_Domain            2456 non-null   object\n",
            " 7   SSLfinal_State               2456 non-null   object\n",
            " 8   Domain_registeration_length  2456 non-null   object\n",
            " 9   Favicon                      2456 non-null   object\n",
            " 10  port                         2456 non-null   object\n",
            " 11  HTTPS_token                  2456 non-null   object\n",
            " 12  Request_URL                  2456 non-null   object\n",
            " 13  URL_of_Anchor                2456 non-null   object\n",
            " 14  Links_in_tags                2456 non-null   object\n",
            " 15  SFH                          2456 non-null   object\n",
            " 16  Submitting_to_email          2456 non-null   object\n",
            " 17  Abnormal_URL                 2456 non-null   object\n",
            " 18  Redirect                     2456 non-null   object\n",
            " 19  on_mouseover                 2456 non-null   object\n",
            " 20  RightClick                   2456 non-null   object\n",
            " 21  popUpWidnow                  2456 non-null   object\n",
            " 22  Iframe                       2456 non-null   object\n",
            " 23  age_of_domain                2456 non-null   object\n",
            " 24  DNSRecord                    2456 non-null   object\n",
            " 25  web_traffic                  2456 non-null   object\n",
            " 26  Page_Rank                    2456 non-null   object\n",
            " 27  Google_Index                 2456 non-null   object\n",
            " 28  Links_pointing_to_page       2456 non-null   object\n",
            " 29  Statistical_report           2456 non-null   object\n",
            " 30  Result                       2456 non-null   object\n",
            "dtypes: object(31)\n",
            "memory usage: 594.9+ KB\n"
          ]
        }
      ],
      "source": [
        "df.info()"
      ]
    },
    {
      "cell_type": "code",
      "execution_count": 68,
      "metadata": {
        "id": "E-zVDpSfek6p"
      },
      "outputs": [],
      "source": [
        "items_to_remove = [\"b\", \"'\"]\n",
        "cols_to_clean = df.columns.tolist()\n",
        "\n",
        "for col in cols_to_clean:\n",
        "    if df[col].dtype == 'object':\n",
        "        df[col] = df[col].astype(str)\n",
        "        for item in items_to_remove:\n",
        "            df[col] = df[col].str.replace(item, \"\")\n",
        "\n",
        "df[df.columns] = df[df.columns].astype(int)"
      ]
    },
    {
      "cell_type": "code",
      "execution_count": 69,
      "metadata": {
        "colab": {
          "base_uri": "https://localhost:8080/"
        },
        "id": "WmS73dJ9foaC",
        "outputId": "c95b4bb9-add8-47be-d20b-f953f9aaaefb"
      },
      "outputs": [
        {
          "name": "stdout",
          "output_type": "stream",
          "text": [
            "<class 'pandas.core.frame.DataFrame'>\n",
            "RangeIndex: 2456 entries, 0 to 2455\n",
            "Data columns (total 31 columns):\n",
            " #   Column                       Non-Null Count  Dtype\n",
            "---  ------                       --------------  -----\n",
            " 0   having_IP_Address            2456 non-null   int64\n",
            " 1   URL_Length                   2456 non-null   int64\n",
            " 2   Shortining_Service           2456 non-null   int64\n",
            " 3   having_At_Symbol             2456 non-null   int64\n",
            " 4   double_slash_redirecting     2456 non-null   int64\n",
            " 5   Prefix_Suffix                2456 non-null   int64\n",
            " 6   having_Sub_Domain            2456 non-null   int64\n",
            " 7   SSLfinal_State               2456 non-null   int64\n",
            " 8   Domain_registeration_length  2456 non-null   int64\n",
            " 9   Favicon                      2456 non-null   int64\n",
            " 10  port                         2456 non-null   int64\n",
            " 11  HTTPS_token                  2456 non-null   int64\n",
            " 12  Request_URL                  2456 non-null   int64\n",
            " 13  URL_of_Anchor                2456 non-null   int64\n",
            " 14  Links_in_tags                2456 non-null   int64\n",
            " 15  SFH                          2456 non-null   int64\n",
            " 16  Submitting_to_email          2456 non-null   int64\n",
            " 17  Abnormal_URL                 2456 non-null   int64\n",
            " 18  Redirect                     2456 non-null   int64\n",
            " 19  on_mouseover                 2456 non-null   int64\n",
            " 20  RightClick                   2456 non-null   int64\n",
            " 21  popUpWidnow                  2456 non-null   int64\n",
            " 22  Iframe                       2456 non-null   int64\n",
            " 23  age_of_domain                2456 non-null   int64\n",
            " 24  DNSRecord                    2456 non-null   int64\n",
            " 25  web_traffic                  2456 non-null   int64\n",
            " 26  Page_Rank                    2456 non-null   int64\n",
            " 27  Google_Index                 2456 non-null   int64\n",
            " 28  Links_pointing_to_page       2456 non-null   int64\n",
            " 29  Statistical_report           2456 non-null   int64\n",
            " 30  Result                       2456 non-null   int64\n",
            "dtypes: int64(31)\n",
            "memory usage: 594.9 KB\n"
          ]
        }
      ],
      "source": [
        "df.info()"
      ]
    },
    {
      "cell_type": "code",
      "execution_count": 79,
      "metadata": {
        "colab": {
          "base_uri": "https://localhost:8080/"
        },
        "id": "rha4xUZRmkB4",
        "outputId": "a65c8bde-ff87-4690-87c0-530ad3587d12"
      },
      "outputs": [
        {
          "data": {
            "text/plain": [
              "-1    1362\n",
              " 1    1094\n",
              "Name: Result, dtype: int64"
            ]
          },
          "execution_count": 79,
          "metadata": {},
          "output_type": "execute_result"
        }
      ],
      "source": [
        "df['Result'].value_counts()"
      ]
    },
    {
      "cell_type": "code",
      "execution_count": 80,
      "metadata": {
        "id": "oi3wdpZrnThp"
      },
      "outputs": [],
      "source": [
        "import numpy as np\n",
        "import seaborn as sns\n",
        "import matplotlib.pyplot as plt"
      ]
    },
    {
      "cell_type": "code",
      "execution_count": 82,
      "metadata": {
        "colab": {
          "base_uri": "https://localhost:8080/"
        },
        "id": "JtqxMAE4nnFX",
        "outputId": "6e861f03-31c6-4142-e3d4-0df26894969f"
      },
      "outputs": [
        {
          "data": {
            "text/plain": [
              "having_IP_Address              0\n",
              "URL_Length                     0\n",
              "Shortining_Service             0\n",
              "having_At_Symbol               0\n",
              "double_slash_redirecting       0\n",
              "Prefix_Suffix                  0\n",
              "having_Sub_Domain              0\n",
              "SSLfinal_State                 0\n",
              "Domain_registeration_length    0\n",
              "Favicon                        0\n",
              "port                           0\n",
              "HTTPS_token                    0\n",
              "Request_URL                    0\n",
              "URL_of_Anchor                  0\n",
              "Links_in_tags                  0\n",
              "SFH                            0\n",
              "Submitting_to_email            0\n",
              "Abnormal_URL                   0\n",
              "Redirect                       0\n",
              "on_mouseover                   0\n",
              "RightClick                     0\n",
              "popUpWidnow                    0\n",
              "Iframe                         0\n",
              "age_of_domain                  0\n",
              "DNSRecord                      0\n",
              "web_traffic                    0\n",
              "Page_Rank                      0\n",
              "Google_Index                   0\n",
              "Links_pointing_to_page         0\n",
              "Statistical_report             0\n",
              "Result                         0\n",
              "dtype: int64"
            ]
          },
          "execution_count": 82,
          "metadata": {},
          "output_type": "execute_result"
        }
      ],
      "source": [
        "# Finding Missing Values\n",
        "df.isnull().sum()"
      ]
    },
    {
      "cell_type": "code",
      "execution_count": 84,
      "metadata": {
        "colab": {
          "base_uri": "https://localhost:8080/"
        },
        "id": "QovtjhA6n3q3",
        "outputId": "15287a80-f93c-4cfb-d8fa-928533fcb206"
      },
      "outputs": [
        {
          "data": {
            "text/plain": [
              "740"
            ]
          },
          "execution_count": 84,
          "metadata": {},
          "output_type": "execute_result"
        }
      ],
      "source": [
        "#Finding Duplicates\n",
        "df.duplicated().sum()"
      ]
    },
    {
      "cell_type": "markdown",
      "metadata": {
        "id": "hTLwOv3AoGZI"
      },
      "source": [
        "But these duplicates are necessary and we will see it later if it force overfitting."
      ]
    },
    {
      "cell_type": "markdown",
      "metadata": {
        "id": "FsdlXyFFpmlQ"
      },
      "source": [
        "Ok, lets remove it."
      ]
    },
    {
      "cell_type": "code",
      "execution_count": 89,
      "metadata": {
        "id": "gwwp11rTpgye"
      },
      "outputs": [],
      "source": [
        "df.drop_duplicates(inplace=True)"
      ]
    },
    {
      "cell_type": "code",
      "execution_count": 90,
      "metadata": {
        "colab": {
          "base_uri": "https://localhost:8080/"
        },
        "id": "Np4gViXBprp4",
        "outputId": "5d392148-2a41-454f-eeb1-73bb398a9fd1"
      },
      "outputs": [
        {
          "data": {
            "text/plain": [
              "(1716, 31)"
            ]
          },
          "execution_count": 90,
          "metadata": {},
          "output_type": "execute_result"
        }
      ],
      "source": [
        "df.shape"
      ]
    },
    {
      "cell_type": "markdown",
      "metadata": {
        "id": "UWAkvjs5qRZg"
      },
      "source": [
        "### Let's start model training"
      ]
    },
    {
      "cell_type": "code",
      "execution_count": 91,
      "metadata": {
        "id": "I9l03KnapsX_"
      },
      "outputs": [],
      "source": [
        "## Seperating Independent and dependent features\n",
        "X= df.drop('Result', axis=1)\n",
        "y= df.Result"
      ]
    },
    {
      "cell_type": "code",
      "execution_count": 92,
      "metadata": {
        "colab": {
          "base_uri": "https://localhost:8080/"
        },
        "id": "5hYQea2ErPG6",
        "outputId": "ef919757-c1e1-444c-e659-012a79481145"
      },
      "outputs": [
        {
          "data": {
            "text/plain": [
              "((1716, 30), (1716,))"
            ]
          },
          "execution_count": 92,
          "metadata": {},
          "output_type": "execute_result"
        }
      ],
      "source": [
        "(X.shape, y.shape)"
      ]
    },
    {
      "cell_type": "code",
      "execution_count": 93,
      "metadata": {
        "id": "6_DT_56irRGy"
      },
      "outputs": [],
      "source": [
        "## Train Test Split\n",
        "from sklearn.model_selection import train_test_split\n",
        "X_train,X_test,y_train,y_test=train_test_split(X,y,test_size=0.20, random_state=42)"
      ]
    },
    {
      "cell_type": "code",
      "execution_count": 94,
      "metadata": {
        "id": "nGygZ1EWrVD6"
      },
      "outputs": [],
      "source": [
        "from sklearn.pipeline import Pipeline\n",
        "from sklearn.compose import ColumnTransformer\n",
        "from sklearn.impute import SimpleImputer\n",
        "\n",
        "# Define preprocessing pipeline\n",
        "numeric_features = X_train.select_dtypes(include=['int64', 'float64']).columns\n",
        "\n",
        "numeric_pipeline = Pipeline([\n",
        "    ('imputer', SimpleImputer(strategy='median'))\n",
        "])\n",
        "\n",
        "preprocessor = ColumnTransformer([\n",
        "    ('num', numeric_pipeline, numeric_features)\n",
        "])"
      ]
    },
    {
      "cell_type": "code",
      "execution_count": 114,
      "metadata": {
        "id": "aFFBEj7ZxCLI"
      },
      "outputs": [],
      "source": [
        "from sklearn.ensemble import RandomForestClassifier\n",
        "from sklearn.metrics import accuracy_score, precision_score, recall_score, f1_score\n",
        "from sklearn.ensemble import GradientBoostingClassifier"
      ]
    },
    {
      "cell_type": "code",
      "execution_count": 132,
      "metadata": {
        "colab": {
          "base_uri": "https://localhost:8080/"
        },
        "id": "zd1j_IM8sXBn",
        "outputId": "2af0aa36-4148-4722-9a2d-1ed9e017bdd8"
      },
      "outputs": [
        {
          "name": "stdout",
          "output_type": "stream",
          "text": [
            "RandomForestClassifier\n",
            "Model Evaluation Metrics\n",
            "Accuracy: 0.9767441860465116\n",
            "Precision: 0.9629629629629629\n",
            "Recall: 0.9873417721518988\n",
            "F1 Score: 0.975\n",
            "===================================\n",
            "\n",
            "\n",
            "GradientBoostingClassifier\n",
            "Model Evaluation Metrics\n",
            "Accuracy: 0.9680232558139535\n",
            "Precision: 0.9565217391304348\n",
            "Recall: 0.9746835443037974\n",
            "F1 Score: 0.9655172413793103\n",
            "===================================\n",
            "\n",
            "\n"
          ]
        }
      ],
      "source": [
        "# Train and evaluate models\n",
        "models = {\n",
        "    'RandomForestClassifier': RandomForestClassifier(),\n",
        "    'GradientBoostingClassifier': GradientBoostingClassifier()\n",
        "}\n",
        "\n",
        "for model_name, model in models.items():\n",
        "    model_pipeline = Pipeline([\n",
        "        ('preprocessor', preprocessor),\n",
        "        ('model', model)\n",
        "    ])\n",
        "\n",
        "    model_pipeline.fit(X_train, y_train)\n",
        "    y_pred = model_pipeline.predict(X_test)\n",
        "\n",
        "    accuracy = accuracy_score(y_test, y_pred)\n",
        "    precision = precision_score(y_test, y_pred)\n",
        "    recall = recall_score(y_test, y_pred)\n",
        "    f1 = f1_score(y_test, y_pred)\n",
        "\n",
        "    print(model_name)\n",
        "    print('Model Evaluation Metrics')\n",
        "    print(\"Accuracy:\", accuracy)\n",
        "    print(\"Precision:\", precision)\n",
        "    print(\"Recall:\", recall)\n",
        "    print(\"F1 Score:\", f1)\n",
        "    print('='*35)\n",
        "    print('\\n')\n"
      ]
    },
    {
      "cell_type": "markdown",
      "metadata": {
        "id": "OQxc3DBe0wVp"
      },
      "source": [
        "### Now Hyperparameter Tuning"
      ]
    },
    {
      "cell_type": "code",
      "execution_count": 124,
      "metadata": {
        "colab": {
          "base_uri": "https://localhost:8080/"
        },
        "id": "gL2jo2Y5sgy_",
        "outputId": "a80202bf-897c-4395-fb74-dcbe6bcfc9ce"
      },
      "outputs": [
        {
          "data": {
            "text/plain": [
              "{'criterion': 'gini', 'max_depth': 5, 'max_features': None, 'random_state': 20}"
            ]
          },
          "execution_count": 124,
          "metadata": {},
          "output_type": "execute_result"
        }
      ],
      "source": [
        "# from sklearn.model_selection import GridSearchCV\n",
        "# params={\n",
        "#     'criterion':['gini', 'entropy', 'log_loss'],\n",
        "#     'max_depth': [1,2,3,4,5],\n",
        "#     'max_features': ['sqrt', 'log2', None],\n",
        "#     'random_state':[0,42, 20]\n",
        "# }\n",
        "# clf= GridSearchCV(RandomForestClassifier(), param_grid= params, cv=5)\n",
        "# clf.fit(X_train, y_train)\n",
        "# clf.best_params_"
      ]
    },
    {
      "cell_type": "code",
      "execution_count": 125,
      "metadata": {
        "colab": {
          "base_uri": "https://localhost:8080/"
        },
        "id": "-6SmyEQ603Qo",
        "outputId": "778a0964-20d9-49c7-b3a3-baa1176c949a"
      },
      "outputs": [
        {
          "name": "stdout",
          "output_type": "stream",
          "text": [
            "GradientBoostingClassifier\n",
            "Model Evaluation Metrics\n",
            "Accuracy: 0.9680232558139535\n",
            "Precision: 0.9565217391304348\n",
            "Recall: 0.9746835443037974\n",
            "F1 Score: 0.9655172413793103\n"
          ]
        }
      ],
      "source": [
        "# rfc= RandomForestClassifier(criterion=  'log_loss', max_depth= 5, max_features= None, random_state= 20)\n",
        "# rfc.fit(X_train, y_train)\n",
        "# y_pred = model_pipeline.predict(X_test)\n",
        "# accuracy = accuracy_score(y_test, y_pred)\n",
        "# precision = precision_score(y_test, y_pred)\n",
        "# recall = recall_score(y_test, y_pred)\n",
        "# f1 = f1_score(y_test, y_pred)\n",
        "# print(model_name)\n",
        "# print('Model Evaluation Metrics')\n",
        "# print(\"Accuracy:\", accuracy)\n",
        "# print(\"Precision:\", precision)\n",
        "# print(\"Recall:\", recall)\n",
        "# print(\"F1 Score:\", f1)"
      ]
    },
    {
      "cell_type": "markdown",
      "metadata": {
        "id": "g63Ylrc53j8f"
      },
      "source": [
        "By Hyper parameter Tuning, the accuracy also decreased in random forest classifier."
      ]
    },
    {
      "cell_type": "code",
      "execution_count": 126,
      "metadata": {
        "colab": {
          "base_uri": "https://localhost:8080/"
        },
        "id": "M20vTSHb1p1X",
        "outputId": "fb8cf04a-1707-4171-c66d-3cbc25454c81"
      },
      "outputs": [
        {
          "data": {
            "text/plain": [
              "{'criterion': 'friedman_mse',\n",
              " 'loss': 'exponential',\n",
              " 'max_depth': 5,\n",
              " 'max_features': 'log2',\n",
              " 'random_state': 42}"
            ]
          },
          "execution_count": 126,
          "metadata": {},
          "output_type": "execute_result"
        }
      ],
      "source": [
        "# from sklearn.model_selection import GridSearchCV\n",
        "# params={\n",
        "#     'loss': ['log_loss', 'exponential'],\n",
        "#     'criterion':['friedman_mse', 'squared_error'],\n",
        "#     'max_depth': [1,2,3,4,5],\n",
        "#     'max_features': ['sqrt', 'log2', None],\n",
        "#     'random_state':[0,42, 20]\n",
        "# }\n",
        "# clf= GridSearchCV(GradientBoostingClassifier(), param_grid= params, cv=5)\n",
        "# clf.fit(X_train, y_train)\n",
        "# clf.best_params_"
      ]
    },
    {
      "cell_type": "code",
      "execution_count": 128,
      "metadata": {
        "colab": {
          "base_uri": "https://localhost:8080/"
        },
        "id": "IxwL-HPy4Mc3",
        "outputId": "1ebbceb6-0acf-4126-eaad-2701d849de46"
      },
      "outputs": [
        {
          "name": "stdout",
          "output_type": "stream",
          "text": [
            "GradientBoostingClassifier\n",
            "Model Evaluation Metrics\n",
            "Accuracy: 0.9680232558139535\n",
            "Precision: 0.9565217391304348\n",
            "Recall: 0.9746835443037974\n",
            "F1 Score: 0.9655172413793103\n"
          ]
        }
      ],
      "source": [
        "# rfc= GradientBoostingClassifier(criterion= 'friedman_mse',loss= 'exponential', max_depth= 5, max_features= 'log2', random_state= 42)\n",
        "# rfc.fit(X_train, y_train)\n",
        "# y_pred = model_pipeline.predict(X_test)\n",
        "# accuracy = accuracy_score(y_test, y_pred)\n",
        "# precision = precision_score(y_test, y_pred)\n",
        "# recall = recall_score(y_test, y_pred)\n",
        "# f1 = f1_score(y_test, y_pred)\n",
        "# print(\"Random Forest Classifier\")\n",
        "# print('Model Evaluation Metrics')\n",
        "# print(\"Accuracy:\", accuracy)\n",
        "# print(\"Precision:\", precision)\n",
        "# print(\"Recall:\", recall)\n",
        "# print(\"F1 Score:\", f1)"
      ]
    },
    {
      "cell_type": "markdown",
      "metadata": {
        "id": "JLxwjBPB5q9Z"
      },
      "source": [
        "By Hyper parameter Tuning, the accuracy also decreased in Gradient Boosting classifier."
      ]
    },
    {
      "cell_type": "code",
      "execution_count": 133,
      "metadata": {
        "colab": {
          "base_uri": "https://localhost:8080/"
        },
        "id": "RKS-23zz90x4",
        "outputId": "3dd9266e-da42-490e-d693-fedf4789268d"
      },
      "outputs": [
        {
          "name": "stdout",
          "output_type": "stream",
          "text": [
            "Random Forest Classifier\n",
            "Model Evaluation Metrics\n",
            "Accuracy: 0.9738372093023255\n",
            "Precision: 0.9570552147239264\n",
            "Recall: 0.9873417721518988\n",
            "F1 Score: 0.9719626168224299\n"
          ]
        }
      ],
      "source": [
        "clf= RandomForestClassifier()\n",
        "clf.fit(X_train,y_train)\n",
        "y_pred= clf.predict(X_test)\n",
        "accuracy = accuracy_score(y_test, y_pred)\n",
        "precision = precision_score(y_test, y_pred)\n",
        "recall = recall_score(y_test, y_pred)\n",
        "f1 = f1_score(y_test, y_pred)\n",
        "print(\"Random Forest Classifier\")\n",
        "print('Model Evaluation Metrics')\n",
        "print(\"Accuracy:\", accuracy)\n",
        "print(\"Precision:\", precision)\n",
        "print(\"Recall:\", recall)\n",
        "print(\"F1 Score:\", f1)"
      ]
    },
    {
      "cell_type": "markdown",
      "metadata": {
        "id": "w3AhOEgU-1HI"
      },
      "source": [
        "## Accuracy is around 97.3%"
      ]
    },
    {
      "cell_type": "code",
      "execution_count": 134,
      "metadata": {
        "id": "PQZjK5JX4kks"
      },
      "outputs": [],
      "source": [
        "# import pickle\n",
        "# file= open('modelForPrediction.pkl', 'wb')\n",
        "# pickle.dump(clf,file)\n",
        "# file.close()"
      ]
    },
    {
      "cell_type": "code",
      "execution_count": null,
      "metadata": {
        "id": "oX5uc8s6--A_"
      },
      "outputs": [],
      "source": []
    }
  ],
  "metadata": {
    "colab": {
      "provenance": []
    },
    "kernelspec": {
      "display_name": "Python 3.8.10 64-bit",
      "language": "python",
      "name": "python3"
    },
    "language_info": {
      "name": "python",
      "version": "3.8.10"
    },
    "vscode": {
      "interpreter": {
        "hash": "e7370f93d1d0cde622a1f8e1c04877d8463912d04d973331ad4851f04de6915a"
      }
    }
  },
  "nbformat": 4,
  "nbformat_minor": 0
}
